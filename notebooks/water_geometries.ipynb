{
 "cells": [
  {
   "cell_type": "code",
   "execution_count": 1,
   "id": "8bee8f58-f1e2-4e1c-b685-822578ef8729",
   "metadata": {},
   "outputs": [],
   "source": [
    "import numpy as np\n",
    "%matplotlib inline\n",
    "import matplotlib.pylab as plt\n",
    "from pyiron_atomistics import Project\n",
    "from pyiron_electrochemistry.atomistic.geometry.water import WaterGeometryCalculator\n",
    "import ase.units as units\n",
    "import pandas"
   ]
  },
  {
   "cell_type": "code",
   "execution_count": 2,
   "id": "f25d19f5-7a78-4695-aee4-d5b6b2890d0c",
   "metadata": {},
   "outputs": [],
   "source": [
    "pr = Project(\"tip3p_water\")"
   ]
  },
  {
   "cell_type": "code",
   "execution_count": 3,
   "id": "6ce6e5fd-6a28-4d8c-af75-868c0fae67b3",
   "metadata": {},
   "outputs": [
    {
     "data": {
      "application/vnd.jupyter.widget-view+json": {
       "model_id": "e4254107483d463d998b16b86eccbf63",
       "version_major": 2,
       "version_minor": 0
      },
      "text/plain": []
     },
     "metadata": {},
     "output_type": "display_data"
    },
    {
     "data": {
      "application/vnd.jupyter.widget-view+json": {
       "model_id": "66338d86e35442ff9c74f642d08c6c91",
       "version_major": 2,
       "version_minor": 0
      },
      "text/plain": [
       "NGLWidget()"
      ]
     },
     "metadata": {},
     "output_type": "display_data"
    }
   ],
   "source": [
    "density = 1.0e-24  # g/A^3\n",
    "n_mols = 27\n",
    "mol_mass_water = 18.015 # g/mol\n",
    "\n",
    "# Determining the supercell size size\n",
    "mass = mol_mass_water * n_mols / units.mol  # g\n",
    "vol_h2o = mass / density # in A^3\n",
    "a = vol_h2o ** (1./3.) # A\n",
    "\n",
    "# Constructing the unitcell\n",
    "n = int(round(n_mols ** (1. / 3.)))\n",
    "\n",
    "dx = 0.7\n",
    "r_O = [0, 0, 0]\n",
    "r_H1 = [dx, dx, 0]\n",
    "r_H2 = [-dx, dx, 0]\n",
    "unit_cell = (a / n) * np.eye(3)\n",
    "water = pr.create_atoms(elements=['H', 'H', 'O'],\n",
    "                        positions=[r_H1, r_H2, r_O],\n",
    "                        cell=unit_cell, pbc=True)\n",
    "water.set_repeat([n, n, n])\n",
    "water.plot3d()"
   ]
  },
  {
   "cell_type": "code",
   "execution_count": 4,
   "id": "cdae07ac-bd39-4442-a7c6-1f403a149ad6",
   "metadata": {},
   "outputs": [],
   "source": [
    "water_potential = pandas.DataFrame({\n",
    "    'Name': ['H2O_tip3p'],\n",
    "    'Filename': [[]],\n",
    "    'Model': [\"TIP3P\"],\n",
    "    'Species': [['H', 'O']],\n",
    "    'Config': [['# @potential_species H_O ### species in potential\\n', '# W.L. Jorgensen et.al., The Journal of Chemical Physics 79, 926 (1983); https://doi.org/10.1063/1.445869\\n', '#\\n', '\\n', 'units real\\n', 'dimension 3\\n', 'atom_style full\\n', '\\n', '# create groups ###\\n', 'group O type 2\\n', 'group H type 1\\n', '\\n', '## set charges - beside manually ###\\n', 'set group O charge -0.830\\n', 'set group H charge 0.415\\n', '\\n', '### TIP3P Potential Parameters ###\\n', 'pair_style lj/cut/coul/long 10.0\\n', 'pair_coeff * * 0.0 0.0 \\n', 'pair_coeff 2 2 0.102 3.188 \\n', 'bond_style harmonic\\n', 'bond_coeff 1 450 0.9572\\n', 'angle_style harmonic\\n', 'angle_coeff 1 55 104.52\\n', 'kspace_style pppm 1.0e-5\\n', '\\n']]\n",
    "})"
   ]
  },
  {
   "cell_type": "code",
   "execution_count": 5,
   "id": "d4b44016-b9a8-4852-9da7-f172d46e0a40",
   "metadata": {},
   "outputs": [
    {
     "name": "stderr",
     "output_type": "stream",
     "text": [
      "/cmmc/u/chandu/programs/pyiron_mpie/pyiron_base/pyiron_base/generic/parameters.py:282: UserWarning: The input in GenericParameters changed, while the state of the job was already finished.\n",
      "  warnings.warn(\n",
      "/cmmc/u/chandu/programs/pyiron_mpie/pyiron_atomistics/pyiron_atomistics/lammps/base.py:209: UserWarning: WARNING: Non-'metal' units are not fully supported. Your calculation should run OK, but results may not be saved in pyiron units.\n",
      "  warnings.warn(\n"
     ]
    }
   ],
   "source": [
    "job_name = \"water_slow\"\n",
    "ham = pr.create_job(\"Lammps\", job_name)\n",
    "ham.structure = water\n",
    "ham.potential = water_potential"
   ]
  },
  {
   "cell_type": "code",
   "execution_count": 6,
   "id": "0f55280c-3c89-4afc-bd7c-ccbba972eb73",
   "metadata": {},
   "outputs": [
    {
     "name": "stderr",
     "output_type": "stream",
     "text": [
      "2021-10-29 20:14:00,635 - pyiron_log - WARNING - The job water_slow is being loaded instead of running. To re-run use the argument 'delete_existing_job=True in create_job'\n",
      "2021-10-29 20:14:00,635 - pyiron_log - WARNING - The job water_slow is being loaded instead of running. To re-run use the argument 'delete_existing_job=True in create_job'\n"
     ]
    }
   ],
   "source": [
    "ham.calc_md(temperature=300,\n",
    "            n_ionic_steps=1e4,\n",
    "            time_step=0.01)\n",
    "ham.run()"
   ]
  },
  {
   "cell_type": "code",
   "execution_count": 7,
   "id": "1b6aaf97-c4df-4026-b08a-4b38876e140d",
   "metadata": {},
   "outputs": [],
   "source": [
    "wg = WaterGeometryCalculator(ham)"
   ]
  },
  {
   "cell_type": "code",
   "execution_count": 8,
   "id": "f3390385-0977-4fcc-86de-b62276082b20",
   "metadata": {},
   "outputs": [
    {
     "data": {
      "image/png": "[encoded data removed]",
      "text/plain": [
       "<Figure size 432x288 with 1 Axes>"
      ]
     },
     "metadata": {
      "needs_background": "light"
     },
     "output_type": "display_data"
    }
   ],
   "source": [
    "_ = plt.hist(wg.intra_oh_distances.flatten(), density=True)"
   ]
  },
  {
   "cell_type": "code",
   "execution_count": null,
   "id": "db78064e-041d-47da-b77e-d1db705aa96b",
   "metadata": {},
   "outputs": [],
   "source": []
  },
  {
   "cell_type": "code",
   "execution_count": null,
   "id": "77b51ab4-2058-402f-81e0-0870a1c3f350",
   "metadata": {},
   "outputs": [],
   "source": []
  }
 ],
 "metadata": {
  "kernelspec": {
   "display_name": "Python 3 (ipykernel)",
   "language": "python",
   "name": "python3"
  },
  "language_info": {
   "codemirror_mode": {
    "name": "ipython",
    "version": 3
   },
   "file_extension": ".py",
   "mimetype": "text/x-python",
   "name": "python",
   "nbconvert_exporter": "python",
   "pygments_lexer": "ipython3",
   "version": "3.8.12"
  }
 },
 "nbformat": 4,
 "nbformat_minor": 5
}